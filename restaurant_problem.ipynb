{
  "nbformat": 4,
  "nbformat_minor": 0,
  "metadata": {
    "colab": {
      "provenance": [],
      "authorship_tag": "ABX9TyPF5/M5vrNee9VKEturD6f6",
      "include_colab_link": true
    },
    "kernelspec": {
      "name": "python3",
      "display_name": "Python 3"
    },
    "language_info": {
      "name": "python"
    }
  },
  "cells": [
    {
      "cell_type": "markdown",
      "metadata": {
        "id": "view-in-github",
        "colab_type": "text"
      },
      "source": [
        "<a href=\"https://colab.research.google.com/github/apoorvaec1030/Python-practice/blob/main/restaurant_problem.ipynb\" target=\"_parent\"><img src=\"https://colab.research.google.com/assets/colab-badge.svg\" alt=\"Open In Colab\"/></a>"
      ]
    },
    {
      "cell_type": "markdown",
      "source": [
        "### Restaurant problem"
      ],
      "metadata": {
        "id": "cKcSlRbX286g"
      }
    },
    {
      "cell_type": "code",
      "execution_count": 1,
      "metadata": {
        "id": "l9mtzfr125qR"
      },
      "outputs": [],
      "source": [
        "import pandas as pd\n",
        "import numpy as np\n",
        "from collections import Counter\n",
        "\n",
        "\n",
        "df=pd.DataFrame({'billid':np.random.randint(1,15,size=20),'custid':np.random.randint(100,105,size=20),'spend':np.random.randint(500,5000,size=20)})\n"
      ]
    },
    {
      "cell_type": "code",
      "source": [
        "#1. Identify Duplicate Bills-Write a function to find and return bill IDs that appear more than once in the dataset.\n",
        "d=Counter(df.billid)\n",
        "\n",
        "c=[billid for billid,count in Counter(df.billid).items() if count>1 ]\n",
        "\n",
        "print(c)\n",
        "\n",
        "\n",
        "#Follow-up: How would you handle duplicate billids if they represent incorrect data?\n",
        "#exclude duplicates\n",
        "\n",
        "df.drop_duplicates(subset='billid',keep='last')\n",
        "\n"
      ],
      "metadata": {
        "id": "cDcdPlQ23ByW"
      },
      "execution_count": null,
      "outputs": []
    },
    {
      "cell_type": "code",
      "source": [
        "#with unique billids\n",
        "df=pd.DataFrame({'billid':np.random.randint(1,20,size=20),'custid':np.random.randint(100,105,size=20),'spend':np.random.randint(500,5000,size=20)})\n",
        "\n",
        "#2.Compute Customer-Level Spend Statistics-For each customer (custid), compute the total, average, and standard deviation of their spending.\n",
        "gp_df=df.groupby('custid').agg({'spend':['sum','mean','std']}).reset_index()\n",
        "gp_df.columns=['custid','total','average','std']\n",
        "np.round(gp_df)\n",
        "\n",
        "#Follow-up: How would you handle cases where a customer has only one record (NaN std)?\n",
        "#update the dataset in custid from 105 to 118\n",
        "df=pd.DataFrame({'billid':np.random.randint(1,20,size=20),'custid':np.random.randint(100,118,size=20),'spend':np.random.randint(500,5000,size=20)})\n",
        "gp_df=df.groupby('custid').agg({'spend':['sum','mean','std']}).reset_index()\n",
        "gp_df.columns=['custid','total','average','std']\n",
        "np.round(gp_df.fillna(0))\n"
      ],
      "metadata": {
        "id": "OLgNxOnh3Dnb"
      },
      "execution_count": null,
      "outputs": []
    },
    {
      "cell_type": "code",
      "source": [
        "\n",
        "#3.Find the Top 3 High-Spending Customers-Identify the top 3 customers who have spent the most in total.\n",
        "df.groupby('custid')['spend'].max().sort_values(ascending=False).index[:3]\n",
        "\n",
        "#Follow-up: Modify the function to return customers who are in the top 10% spenders instead.\n",
        "df.groupby('custid')['spend'].median().reset_index()\n",
        "df[df.spend>np.percentile(df.spend,90)]\n"
      ],
      "metadata": {
        "id": "gY1Ka9rD3FT5"
      },
      "execution_count": null,
      "outputs": []
    },
    {
      "cell_type": "code",
      "source": [
        "#4.Detect Anomalous Spending Behavior-Implement an outlier detection method (e.g., IQR or Z-score) to flag suspiciously high spending records.\n",
        "#IQR is robust of extreme values - good for skewed data but not worth for small data size ; zscore is sensitive to extreme values - good for normal distribution and small datasets\n",
        "Q1=np.quantile(df.spend,0.25)\n",
        "Q3=np.quantile(df.spend,0.75)\n",
        "\n",
        "IQR=Q3-Q1\n",
        "\n",
        "df[(df.spend<(Q1-1.5*IQR)) | (df.spend>(Q3+1.5*IQR))]\n",
        "\n",
        "\n",
        "# Follow-up: How would this change if we use Z-score instead of IQR?\n",
        "#zscore method\n",
        "df=pd.DataFrame({'billid':np.random.randint(1,20,size=20),'custid':np.random.randint(100,105,size=20),'spend':np.random.randint(500,5000,size=20)})\n",
        "\n",
        "from scipy import stats\n",
        "df['zscore']=np.abs(stats.zscore(df.spend))\n",
        "df[df.zscore>3].drop('zscore',axis=1)\n"
      ],
      "metadata": {
        "id": "j59IlSHm3Gmd"
      },
      "execution_count": null,
      "outputs": []
    },
    {
      "cell_type": "code",
      "source": [
        "#include date in the dummy dataset\n",
        "df=pd.DataFrame({'billid':np.random.randint(1,20,size=100)\n",
        "                ,'custid':np.random.randint(100,153,size=100)\n",
        "                ,'spend':np.random.randint(500,5000,size=100)\n",
        "                ,'date':pd.to_datetime(np.random.randint(19959,20959,size=100),unit='D')})\n",
        "\n",
        "#5.Predict Next Bill Amount Using a Simple Model-Given a customer’s past spending, predict their next bill amount using a basic regression model.\n",
        "\n",
        "#1.sort trasnx cust - date wise\n",
        "#2.create cust spend features\n",
        "#3.split X&Y data\n",
        "#4.call model, fit, predict\n",
        "#5.evaluate MAE, R2, adjR2\n",
        "#6.predict on X\n",
        "\n",
        "#step1\n",
        "df=df.sort_values(by=['custid','date']).reset_index(drop=True)\n",
        "\n",
        "\n",
        "#step2 feature creation\n",
        "#date-first,last transx,days since last trasn, spend-total,avg,last , trasx=count of trax\n",
        "\n",
        "feature_df=df.groupby('custid').agg(first_tranx=('date','first')\n",
        "                        ,last_tranx=('date','last')\n",
        "                        ,total_spend=('spend','sum')\n",
        "                        ,avg_spend=('spend','mean')\n",
        "                        ,last_spend_amount=('spend','last')\n",
        "                        ,num_tranx=('billid','count')).reset_index()\n",
        "\n",
        "feature_df['days_since_last_tranx']=np.abs(pd.Timestamp.now()-feature_df['last_tranx']).dt.days\n",
        "\n",
        "\n",
        "#step3\n",
        "X=feature_df[['total_spend','avg_spend','num_tranx','days_since_last_tranx']]\n",
        "y=feature_df['last_spend_amount']\n",
        "\n",
        "from sklearn.model_selection import train_test_split\n",
        "\n",
        "X_train,X_test,y_train,y_test=train_test_split(X,y,test_size=0.2,random_state=42)\n",
        "\n",
        "#step4\n",
        "\n",
        "from sklearn.linear_model import LinearRegression\n",
        "\n",
        "model=LinearRegression()\n",
        "model.fit(X_train,y_train)\n",
        "\n",
        "y_pred=model.predict(X_test)\n",
        "\n",
        "#step5\n",
        "\n",
        "from sklearn.metrics import mean_absolute_error,r2_score\n",
        "\n",
        "mae=mean_absolute_error(y_test,y_pred)\n",
        "r2_score=r2_score(y_test,y_pred)\n",
        "\n",
        "#step6\n",
        "#predict\n",
        "\n",
        "feature_df['predicted_spend']=model.predict(X)\n",
        "np.round(feature_df)\n",
        "# Follow-up: How would you extend this model using RNNs (Recurrent Neural Networks) for more accurate forecasting?"
      ],
      "metadata": {
        "id": "WIGnJffY3IH0"
      },
      "execution_count": null,
      "outputs": []
    }
  ]
}