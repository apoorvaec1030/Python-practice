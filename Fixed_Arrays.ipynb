{
  "nbformat": 4,
  "nbformat_minor": 0,
  "metadata": {
    "colab": {
      "provenance": [],
      "authorship_tag": "ABX9TyMdnyNUZI4SWleOPSXD1sXO",
      "include_colab_link": true
    },
    "kernelspec": {
      "name": "python3",
      "display_name": "Python 3"
    },
    "language_info": {
      "name": "python"
    }
  },
  "cells": [
    {
      "cell_type": "markdown",
      "metadata": {
        "id": "view-in-github",
        "colab_type": "text"
      },
      "source": [
        "<a href=\"https://colab.research.google.com/github/apoorvaec1030/Python-practice/blob/main/Fixed_Arrays.ipynb\" target=\"_parent\"><img src=\"https://colab.research.google.com/assets/colab-badge.svg\" alt=\"Open In Colab\"/></a>"
      ]
    },
    {
      "cell_type": "markdown",
      "source": [
        "\n",
        "\n",
        "1. define a fixed array\n",
        "2. len of current elements\n",
        "3. print the array\n",
        "4. add element in the back\n",
        "5. add element in the front\n",
        "6. insert element at a given point\n",
        "7. raise indexerror when it crosses maxcapacity\n"
      ],
      "metadata": {
        "id": "QM6AdIJIWg_6"
      }
    },
    {
      "cell_type": "code",
      "execution_count": null,
      "metadata": {
        "id": "7eqVmGBMWfSO"
      },
      "outputs": [],
      "source": [
        "class Arrays():\n",
        "\n",
        "    def __init__(self):\n",
        "        self._MAXCAPACITY=5\n",
        "        self._array=[None]*self._MAXCAPACITY\n",
        "        self._count=0\n",
        "\n",
        "    def __len__(self):\n",
        "        return self._count\n",
        "\n",
        "\n",
        "    def getArray(self):\n",
        "        print(self._array)\n",
        "\n",
        "    def addFront(self,element):\n",
        "        if self._count>=self._MAXCAPACITY:\n",
        "            raise IndexError\n",
        "\n",
        "        self._array.insert(0,element)\n",
        "        self._array=self._array[:-1]\n",
        "        self._count+=1\n",
        "\n",
        "    def addBack(self,element):\n",
        "        if self._count>=self._MAXCAPACITY:\n",
        "            raise IndexError\n",
        "\n",
        "        self._array[self._count]=element\n",
        "        self._count+=1\n",
        "\n",
        "    def insert(self,element,index):\n",
        "        if self._count>=self._MAXCAPACITY:\n",
        "            raise IndexError\n",
        "        if index>self._count:\n",
        "            raise IndexError('List index out of range')\n",
        "\n",
        "        self._array.insert(index,element)\n",
        "        self._array=self._array[:-1]\n",
        "        self._count+=1\n",
        "\n",
        "\n",
        "obj=Arrays()\n",
        "obj.addFront(3)\n",
        "obj.addBack(4)\n",
        "obj.addFront(6)\n",
        "obj.insert(1,1)\n",
        "\n",
        "obj.insert(6,6)\n",
        "obj.getArray()"
      ]
    }
  ]
}