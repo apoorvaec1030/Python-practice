{
 "cells": [
  {
   "cell_type": "markdown",
   "id": "cc94bbab",
   "metadata": {},
   "source": [
    "### Remove element\n",
    "Given an integer array nums and an integer val, remove all occurrences of val in nums in-place. The order of the elements may be changed. Then return the number of elements in nums which are not equal to val.\n",
    "\n",
    "Consider the number of elements in nums which are not equal to val be k, to get accepted, you need to do the following things:\n",
    "\n",
    "Change the array nums such that the first k elements of nums contain the elements which are not equal to val. The remaining elements of nums are not important as well as the size of nums.\n",
    "Return k."
   ]
  },
  {
   "cell_type": "code",
   "execution_count": 11,
   "id": "fbbabda8",
   "metadata": {},
   "outputs": [
    {
     "data": {
      "text/plain": [
       "(4, [3, 5, 3, 5])"
      ]
     },
     "execution_count": 11,
     "metadata": {},
     "output_type": "execute_result"
    }
   ],
   "source": [
    "#solution1\n",
    "def removeelem(nums,val)->int:\n",
    "    k=0\n",
    "    while val in nums:\n",
    "        nums.remove(val)\n",
    "    return len(nums),nums\n",
    "   \n",
    "\n"
   ]
  },
  {
   "cell_type": "code",
   "execution_count": 24,
   "id": "29d69560",
   "metadata": {},
   "outputs": [],
   "source": [
    "#solution2\n",
    "def removeelem(nums,val)->int:\n",
    "    k=0\n",
    "    for i in range(0,len(nums)):\n",
    "        if nums[i]!=val:\n",
    "            k+=1\n",
    "        else:\n",
    "            nums.remove(i)\n",
    "        \n",
    "            \n",
    "        \n",
    "\n",
    "    return k,nums"
   ]
  },
  {
   "cell_type": "code",
   "execution_count": 25,
   "id": "2ef60847",
   "metadata": {},
   "outputs": [
    {
     "ename": "ValueError",
     "evalue": "list.remove(x): x not in list",
     "output_type": "error",
     "traceback": [
      "\u001b[0;31m---------------------------------------------------------------------------\u001b[0m",
      "\u001b[0;31mValueError\u001b[0m                                Traceback (most recent call last)",
      "Cell \u001b[0;32mIn[25], line 1\u001b[0m\n\u001b[0;32m----> 1\u001b[0m removeelem([\u001b[38;5;241m3\u001b[39m,\u001b[38;5;241m4\u001b[39m,\u001b[38;5;241m5\u001b[39m,\u001b[38;5;241m3\u001b[39m,\u001b[38;5;241m4\u001b[39m,\u001b[38;5;241m5\u001b[39m,\u001b[38;5;241m4\u001b[39m,\u001b[38;5;241m4\u001b[39m,\u001b[38;5;241m4\u001b[39m],\u001b[38;5;241m4\u001b[39m)\n",
      "Cell \u001b[0;32mIn[24], line 8\u001b[0m, in \u001b[0;36mremoveelem\u001b[0;34m(nums, val)\u001b[0m\n\u001b[1;32m      6\u001b[0m         k\u001b[38;5;241m+\u001b[39m\u001b[38;5;241m=\u001b[39m\u001b[38;5;241m1\u001b[39m\n\u001b[1;32m      7\u001b[0m     \u001b[38;5;28;01melse\u001b[39;00m:\n\u001b[0;32m----> 8\u001b[0m         nums\u001b[38;5;241m.\u001b[39mremove(i)\n\u001b[1;32m     13\u001b[0m \u001b[38;5;28;01mreturn\u001b[39;00m k,nums\n",
      "\u001b[0;31mValueError\u001b[0m: list.remove(x): x not in list"
     ]
    }
   ],
   "source": [
    "removeelem([3,4,5,3,4,5,4,4,4],4)"
   ]
  },
  {
   "cell_type": "code",
   "execution_count": null,
   "id": "21b46c4c",
   "metadata": {},
   "outputs": [],
   "source": []
  }
 ],
 "metadata": {
  "kernelspec": {
   "display_name": "Python 3 (ipykernel)",
   "language": "python",
   "name": "python3"
  },
  "language_info": {
   "codemirror_mode": {
    "name": "ipython",
    "version": 3
   },
   "file_extension": ".py",
   "mimetype": "text/x-python",
   "name": "python",
   "nbconvert_exporter": "python",
   "pygments_lexer": "ipython3",
   "version": "3.11.5"
  }
 },
 "nbformat": 4,
 "nbformat_minor": 5
}
