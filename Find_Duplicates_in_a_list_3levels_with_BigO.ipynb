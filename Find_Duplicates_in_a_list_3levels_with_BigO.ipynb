{
  "nbformat": 4,
  "nbformat_minor": 0,
  "metadata": {
    "colab": {
      "provenance": [],
      "authorship_tag": "ABX9TyPBBzTy5XKK5i6i3d8WdVPF",
      "include_colab_link": true
    },
    "kernelspec": {
      "name": "python3",
      "display_name": "Python 3"
    },
    "language_info": {
      "name": "python"
    }
  },
  "cells": [
    {
      "cell_type": "markdown",
      "metadata": {
        "id": "view-in-github",
        "colab_type": "text"
      },
      "source": [
        "<a href=\"https://colab.research.google.com/github/apoorvaec1030/Python-practice/blob/main/Find_Duplicates_in_a_list_3levels_with_BigO.ipynb\" target=\"_parent\"><img src=\"https://colab.research.google.com/assets/colab-badge.svg\" alt=\"Open In Colab\"/></a>"
      ]
    },
    {
      "cell_type": "code",
      "execution_count": 1,
      "metadata": {
        "id": "o0uazOfpGkaK"
      },
      "outputs": [],
      "source": [
        "input = [1,2,3,3,4,4,5,5]\n",
        "output = [3,4,5]"
      ]
    },
    {
      "cell_type": "markdown",
      "source": [],
      "metadata": {
        "id": "zMwfYqVUMzLR"
      }
    },
    {
      "cell_type": "markdown",
      "source": [
        "### Beginner"
      ],
      "metadata": {
        "id": "xusAvR6hM0Ro"
      }
    },
    {
      "cell_type": "code",
      "source": [
        "def begi(input):\n",
        "  blank = []\n",
        "  for elem in input:\n",
        "    if input.count(elem)>1 and elem not in blank:\n",
        "      blank.append(elem)\n",
        "  return blank\n",
        "\n",
        "begi(input)\n",
        "\n",
        "#time=O(n^2)\n",
        "#space=O(n)\n"
      ],
      "metadata": {
        "colab": {
          "base_uri": "https://localhost:8080/"
        },
        "id": "Zo9sczhhed3_",
        "outputId": "71cf7805-21db-4977-ba24-96c4eded1fbd"
      },
      "execution_count": 4,
      "outputs": [
        {
          "output_type": "execute_result",
          "data": {
            "text/plain": [
              "[3, 4, 5]"
            ]
          },
          "metadata": {},
          "execution_count": 4
        }
      ]
    },
    {
      "cell_type": "markdown",
      "source": [
        "### Intermediate"
      ],
      "metadata": {
        "id": "jkZ3mGyPM8Cd"
      }
    },
    {
      "cell_type": "code",
      "source": [
        "def inter(input=input):\n",
        "  count={}\n",
        "  dup=[]\n",
        "\n",
        "  for i in input:\n",
        "    if i not in count:\n",
        "      count[i]=1\n",
        "    else:\n",
        "      count[i]+=1\n",
        "\n",
        "    for key,val in count.items():\n",
        "      if val>1 and key not in dup:\n",
        "        dup.append(key)\n",
        "\n",
        "  return dup\n",
        "\n",
        "inter()\n",
        "\n",
        "#time O(n+m)\n",
        "#space O(n+m)"
      ],
      "metadata": {
        "colab": {
          "base_uri": "https://localhost:8080/"
        },
        "id": "L92s6SRFM925",
        "outputId": "a46ffd75-8ddb-425a-9da0-3089c8484f52"
      },
      "execution_count": 8,
      "outputs": [
        {
          "output_type": "execute_result",
          "data": {
            "text/plain": [
              "[3, 4, 5]"
            ]
          },
          "metadata": {},
          "execution_count": 8
        }
      ]
    },
    {
      "cell_type": "markdown",
      "source": [
        "### Expert"
      ],
      "metadata": {
        "id": "wlFDKRDSM-f_"
      }
    },
    {
      "cell_type": "code",
      "source": [
        "from collections import Counter\n",
        "\n",
        "def exp(input=input):\n",
        "\n",
        "  dicti= Counter(input)\n",
        "\n",
        "  return [key for key,val in dicti.items() if val>1]\n",
        "\n",
        "exp()\n",
        "\n",
        "#time O(n)\n",
        "#space O(n)"
      ],
      "metadata": {
        "colab": {
          "base_uri": "https://localhost:8080/"
        },
        "id": "-35-pT73M_6m",
        "outputId": "d2a015d6-83b9-4faa-adbb-d762d1723bce"
      },
      "execution_count": 10,
      "outputs": [
        {
          "output_type": "execute_result",
          "data": {
            "text/plain": [
              "[3, 4, 5]"
            ]
          },
          "metadata": {},
          "execution_count": 10
        }
      ]
    },
    {
      "cell_type": "code",
      "source": [],
      "metadata": {
        "id": "jZmY1e1UhK3o"
      },
      "execution_count": null,
      "outputs": []
    }
  ]
}