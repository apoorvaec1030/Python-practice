{
 "cells": [
  {
   "cell_type": "code",
   "execution_count": null,
   "id": "1a3f61f7",
   "metadata": {},
   "outputs": [],
   "source": [
    "import pandas as pd\n",
    "import numpy as np"
   ]
  },
  {
   "cell_type": "code",
   "execution_count": null,
   "id": "a8a4faef",
   "metadata": {},
   "outputs": [],
   "source": [
    "df = pd.DataFrame(np.random.rand(5,3),columns=['a','b','c'])"
   ]
  },
  {
   "cell_type": "markdown",
   "id": "73a84fa7",
   "metadata": {},
   "source": [
    "#### 1- Get max and min value index in a col"
   ]
  },
  {
   "cell_type": "code",
   "execution_count": null,
   "id": "6203d785",
   "metadata": {},
   "outputs": [],
   "source": [
    "df['a'].idxmax()\n",
    "df['c'].idxmin()"
   ]
  },
  {
   "cell_type": "markdown",
   "id": "7f9c593c",
   "metadata": {},
   "source": [
    "#### 2- Iterate over the rows of a df"
   ]
  },
  {
   "cell_type": "code",
   "execution_count": null,
   "id": "2326bc0c",
   "metadata": {},
   "outputs": [],
   "source": [
    "[row for index,row in df.iterrows()]"
   ]
  },
  {
   "cell_type": "markdown",
   "id": "3e10104a",
   "metadata": {},
   "source": [
    "#### 3- apply"
   ]
  },
  {
   "cell_type": "code",
   "execution_count": null,
   "id": "a412ee91",
   "metadata": {},
   "outputs": [],
   "source": [
    "#using apply inplace\n",
    "df.apply(np.mean,axis=0) #elementwise + axis can be given for apply()\n",
    "df.apply(np.sqrt) #but apply function works on entire dataframe without lambda function\n",
    "df['a'].apply(lambda x: x**2 if x>2 else x) #lambda function can only work with series object, hence this deosnt work on entire df\n",
    "\n",
    "\n",
    "#use applymap for elementwise for entire dataframe\n",
    "df.applymap(lambda x: x^2 if x>3 else x) #if lambda works for entire df with applymap function\n",
    "\n",
    "\n",
    "df=df.apply(np.mean,axis=0) #using apply inplace, or use lambda function\n"
   ]
  },
  {
   "cell_type": "markdown",
   "id": "40765698",
   "metadata": {},
   "source": [
    "#### 4- map, filter,reduce"
   ]
  },
  {
   "cell_type": "code",
   "execution_count": null,
   "id": "ef02ce71",
   "metadata": {},
   "outputs": [],
   "source": [
    "#filter removes the false 0 output and only passes through the 1 output\n",
    "\n",
    "tuple(filter(lambda x:x+1 if x>0 else 0,range(-5,9))) "
   ]
  },
  {
   "cell_type": "code",
   "execution_count": null,
   "id": "ec4439e0",
   "metadata": {},
   "outputs": [],
   "source": [
    "#reduce - works cumulatively. Func takes 2 args, either \n",
    "#1st & 2nd element of the iterator or the optional 'initial' value and the 1st element...and so on\n",
    "#result gets reduced to a single value\n",
    "\n",
    "from functools import reduce\n",
    "\n",
    "numbers = [3, 4, 6, 9, 34, 12]\n",
    "\n",
    "def custom_sum(first, second):\n",
    "    return first + second\n",
    "\n",
    "result = reduce(custom_sum, numbers, 10)#10 is the initial default value, result = 78\n",
    "result = reduce(custom_sum, numbers)#result = 68\n",
    "print(result)"
   ]
  },
  {
   "cell_type": "markdown",
   "id": "c25291b2",
   "metadata": {},
   "source": [
    "#### 5- merge"
   ]
  },
  {
   "cell_type": "code",
   "execution_count": null,
   "id": "cc37d2af",
   "metadata": {},
   "outputs": [],
   "source": [
    "df1 = pd.DataFrame({'a':[3,4,5,6],'b':[3,4,53,6],'c':[31,45,25,64]})\n",
    "df2 = pd.DataFrame({'a1':[3,42,53,6],'b1':[3,4,563,6],'c1':[31,435,245,64]})\n",
    "df1.merge(df2, left_on='a',right_on='a1', how='left')"
   ]
  },
  {
   "cell_type": "markdown",
   "id": "29811d13",
   "metadata": {},
   "source": [
    "#### 6- pivot, melt, concat"
   ]
  },
  {
   "cell_type": "code",
   "execution_count": null,
   "id": "9de25238",
   "metadata": {},
   "outputs": [],
   "source": [
    "df1 = pd.DataFrame({'a':['aa','bb','cc','dd'],'b':[3,4,53,6],'c':[31,45,25,64]})"
   ]
  },
  {
   "cell_type": "code",
   "execution_count": null,
   "id": "10567eed",
   "metadata": {},
   "outputs": [],
   "source": [
    "#spread rows into col\n",
    "pd.pivot_table(df1 ,columns=df1['a'])"
   ]
  },
  {
   "cell_type": "code",
   "execution_count": null,
   "id": "6dbd38b2",
   "metadata": {},
   "outputs": [],
   "source": [
    "#gather columns into rows, selective melt - melt all col except id_vars\n",
    "pd.melt(df1,id_vars=['a','b'],var_name='new_col_name',value_name='new_value_col_name')#rename in the melt code itself, instead of writing 1 more line"
   ]
  },
  {
   "cell_type": "code",
   "execution_count": null,
   "id": "1ef7e7c8",
   "metadata": {},
   "outputs": [],
   "source": [
    "#row wise + col wise concat\n",
    "df0 = pd.concat([df1,df2],axis=0)\n",
    "df = pd.concat([df1,df2],axis=1)"
   ]
  },
  {
   "cell_type": "markdown",
   "id": "4d75b024",
   "metadata": {},
   "source": [
    "#### 7- drop_duplicates, dropna"
   ]
  },
  {
   "cell_type": "code",
   "execution_count": null,
   "id": "6d82bd9c",
   "metadata": {},
   "outputs": [],
   "source": [
    "#drop_duplicates- Delete Duplicate Emails\n",
    "df=pd.DataFrame({'email':['aa@f','aa@f','ccaa@f','ddaa@f'],'b':[4,3,53,6],'c':[31,45,25,64]})\n",
    "df.sort_values(by='b',inplace=True) # \"inplace\" saves space\n",
    "df.drop_duplicates(subset='email',keep='first',inplace=True)"
   ]
  },
  {
   "cell_type": "code",
   "execution_count": null,
   "id": "18628c84",
   "metadata": {},
   "outputs": [],
   "source": [
    "#df.dropna\n",
    "df=pd.DataFrame({'email':['aa@f','aa@f','ccaa@f','ddaa@f'],'b':[4,None,53,6],'c':[31,45,25,64]})\n",
    "df.dropna()"
   ]
  },
  {
   "cell_type": "markdown",
   "id": "7aba7e32",
   "metadata": {},
   "source": [
    "#### 8-groupby, sort"
   ]
  },
  {
   "cell_type": "code",
   "execution_count": null,
   "id": "58fbc2c3",
   "metadata": {},
   "outputs": [],
   "source": [
    "data = pd.DataFrame({\"A\": [1, 1, 2, 2],\n",
    "        \"B\": [1, 2, 3, 4],\n",
    "        \"C\": [0.362838, 0.227877, 1.267767, -0.562860]})"
   ]
  },
  {
   "cell_type": "code",
   "execution_count": 52,
   "id": "5d6e25f0",
   "metadata": {},
   "outputs": [
    {
     "data": {
      "text/html": [
       "<div>\n",
       "<style scoped>\n",
       "    .dataframe tbody tr th:only-of-type {\n",
       "        vertical-align: middle;\n",
       "    }\n",
       "\n",
       "    .dataframe tbody tr th {\n",
       "        vertical-align: top;\n",
       "    }\n",
       "\n",
       "    .dataframe thead th {\n",
       "        text-align: right;\n",
       "    }\n",
       "</style>\n",
       "<table border=\"1\" class=\"dataframe\">\n",
       "  <thead>\n",
       "    <tr style=\"text-align: right;\">\n",
       "      <th></th>\n",
       "      <th>B</th>\n",
       "      <th>C</th>\n",
       "    </tr>\n",
       "    <tr>\n",
       "      <th>A</th>\n",
       "      <th></th>\n",
       "      <th></th>\n",
       "    </tr>\n",
       "  </thead>\n",
       "  <tbody>\n",
       "    <tr>\n",
       "      <th>1</th>\n",
       "      <td>1.5</td>\n",
       "      <td>0.295357</td>\n",
       "    </tr>\n",
       "    <tr>\n",
       "      <th>2</th>\n",
       "      <td>3.5</td>\n",
       "      <td>0.352454</td>\n",
       "    </tr>\n",
       "  </tbody>\n",
       "</table>\n",
       "</div>"
      ],
      "text/plain": [
       "     B         C\n",
       "A               \n",
       "1  1.5  0.295357\n",
       "2  3.5  0.352454"
      ]
     },
     "execution_count": 52,
     "metadata": {},
     "output_type": "execute_result"
    }
   ],
   "source": [
    "#using agg for multiple agg func\n",
    "\n",
    "data.groupby('A').agg({'B':['mean','median'],'C':['min','max']}).reset_index(drop=True)\n",
    "data.groupby('A').agg(lambda x:x.mean())"
   ]
  },
  {
   "cell_type": "code",
   "execution_count": 64,
   "id": "5e94a686",
   "metadata": {},
   "outputs": [],
   "source": [
    "emp = pd.DataFrame({'name':['aa','bb','cc','dd','ee','ff'],'sal':[3000,48803,5038933,6084,454643,252111],'dep':['dep1','dep2','dep3','dep1','dep2','dep3']})\n",
    "dep = pd.DataFrame({'id':[31,34,50],'name':['dep1','dep2','dep3']})\n",
    "\n",
    "#list emp names with max salary and dep\n",
    "\n",
    "#brute force\n",
    "df = emp.groupby('dep').apply(lambda x: x[x['sal']==x['sal'].max()]).reset_index(drop=True)\n",
    "df=pd.merge(df,dep,left_on='dep',right_on='name',suffixes=('_emp','_dep'))[['name_emp','sal','dep']]\n",
    "df.columns=['name','sal','dep']\n",
    "\n"
   ]
  },
  {
   "cell_type": "code",
   "execution_count": null,
   "id": "3fd520db",
   "metadata": {},
   "outputs": [],
   "source": [
    "max_salaries = employee.groupby(\"departmentId\")[\"salary\"].rank(\"dense\",ascending = False)\n",
    "department = department.set_index(\"id\")\n",
    "employee[\"Department\"] = department.loc[employee.departmentId.to_list()].reset_index()[\"name\"]\n",
    "employee[max_salaries == 1][[\"Department\",\"name\",\"salary\"]].rename(columns = {\"name\":\"Employee\",\"salary\":\"Salary\"})\n",
    "   "
   ]
  },
  {
   "cell_type": "code",
   "execution_count": 67,
   "id": "f93b9aa2",
   "metadata": {},
   "outputs": [
    {
     "data": {
      "text/plain": [
       "0    2.0\n",
       "1    2.0\n",
       "2    1.0\n",
       "3    1.0\n",
       "4    1.0\n",
       "5    2.0\n",
       "Name: sal, dtype: float64"
      ]
     },
     "execution_count": 67,
     "metadata": {},
     "output_type": "execute_result"
    }
   ],
   "source": [
    "#using rank\n",
    "emp.groupby('dep')['sal'].rank('dense',ascending=False,na_option='bottom')\n",
    "#dep=dep.set_index('id')#emp['dep']=\n",
    "#dep.loc[emp.dep.to_list()].reset_index()"
   ]
  },
  {
   "cell_type": "code",
   "execution_count": null,
   "id": "9ffde32f",
   "metadata": {},
   "outputs": [],
   "source": [
    "#sort values\n",
    "df.sort_values(by='b')"
   ]
  },
  {
   "cell_type": "code",
   "execution_count": 123,
   "id": "cb5c769b",
   "metadata": {},
   "outputs": [
    {
     "data": {
      "text/html": [
       "<div>\n",
       "<style scoped>\n",
       "    .dataframe tbody tr th:only-of-type {\n",
       "        vertical-align: middle;\n",
       "    }\n",
       "\n",
       "    .dataframe tbody tr th {\n",
       "        vertical-align: top;\n",
       "    }\n",
       "\n",
       "    .dataframe thead th {\n",
       "        text-align: right;\n",
       "    }\n",
       "</style>\n",
       "<table border=\"1\" class=\"dataframe\">\n",
       "  <thead>\n",
       "    <tr style=\"text-align: right;\">\n",
       "      <th></th>\n",
       "      <th>nthHighestSalary</th>\n",
       "    </tr>\n",
       "  </thead>\n",
       "  <tbody>\n",
       "    <tr>\n",
       "      <th>salary</th>\n",
       "      <td>23</td>\n",
       "    </tr>\n",
       "  </tbody>\n",
       "</table>\n",
       "</div>"
      ],
      "text/plain": [
       "        nthHighestSalary\n",
       "salary                23"
      ]
     },
     "execution_count": 123,
     "metadata": {},
     "output_type": "execute_result"
    }
   ],
   "source": [
    "#nth highest salary\n",
    "\n",
    "employee=pd.DataFrame({'id':[2,3,5,4,1],'salary':[3443,3443,1311,23,234]})\n",
    "#employee=pd.DataFrame({'id':[2,3,4,1],'salary':[23,23,23,23]})\n",
    "\n",
    "def nth_highest_salary(employee: pd.DataFrame,N:int) -> pd.DataFrame:\n",
    "    employee.drop_duplicates(subset='salary',inplace=True)\n",
    "    if employee.shape[0]>N-1:\n",
    "        df= pd.DataFrame(employee.nlargest(N,'salary')[['salary']][::-1].iloc[0,:])\n",
    "        df.columns=['nthHighestSalary']\n",
    "        return df\n",
    "    else:\n",
    "        return pd.DataFrame({'nthHighestSalary':[None]})\n",
    "    \n",
    "\n",
    "def second_highest_salary(employee: pd.DataFrame) -> pd.DataFrame:\n",
    "    df=employee.sort_values(by='salary',ascending=False).drop_duplicates(subset='salary')\n",
    "    if df.shape[0]>1:\n",
    "        df= pd.DataFrame(df[['salary']].iloc[1,:])\n",
    "        df.columns=['2ndhighestsalary']\n",
    "        return df\n",
    "    else:\n",
    "        return pd.DataFrame({'2ndhighestsalary':[None]})\n",
    "    \n",
    "          \n",
    "second_highest_salary(employee,4)"
   ]
  },
  {
   "cell_type": "code",
   "execution_count": 125,
   "id": "48477d06",
   "metadata": {},
   "outputs": [
    {
     "data": {
      "text/html": [
       "<div>\n",
       "<style scoped>\n",
       "    .dataframe tbody tr th:only-of-type {\n",
       "        vertical-align: middle;\n",
       "    }\n",
       "\n",
       "    .dataframe tbody tr th {\n",
       "        vertical-align: top;\n",
       "    }\n",
       "\n",
       "    .dataframe thead th {\n",
       "        text-align: right;\n",
       "    }\n",
       "</style>\n",
       "<table border=\"1\" class=\"dataframe\">\n",
       "  <thead>\n",
       "    <tr style=\"text-align: right;\">\n",
       "      <th></th>\n",
       "      <th>rich_cust</th>\n",
       "    </tr>\n",
       "  </thead>\n",
       "  <tbody>\n",
       "    <tr>\n",
       "      <th>0</th>\n",
       "      <td>2</td>\n",
       "    </tr>\n",
       "  </tbody>\n",
       "</table>\n",
       "</div>"
      ],
      "text/plain": [
       "   rich_cust\n",
       "0          2"
      ]
     },
     "execution_count": 125,
     "metadata": {},
     "output_type": "execute_result"
    }
   ],
   "source": [
    "#number of rich customers, num of customers with atleast spend > 500 \n",
    "\n",
    "store=pd.DataFrame({'billid':[2,3,5,4,1],'custid':[22,33,33,42,11],'amount':[3443,3443,1311,23,234]})\n",
    "\n",
    "def rich(store:pd.DataFrame)->pd.DataFrame():\n",
    "    uniqC = pd.DataFrame(store.groupby('custid')['amount'].max().reset_index(drop=True))\n",
    "    cnt=uniqC[uniqC['amount']>500].shape[0]\n",
    "    return pd.DataFrame({'rich_cust':[cnt]})\n",
    "rich(store)"
   ]
  },
  {
   "cell_type": "code",
   "execution_count": null,
   "id": "9322b38b",
   "metadata": {},
   "outputs": [],
   "source": []
  }
 ],
 "metadata": {
  "kernelspec": {
   "display_name": "Python 3 (ipykernel)",
   "language": "python",
   "name": "python3"
  },
  "language_info": {
   "codemirror_mode": {
    "name": "ipython",
    "version": 3
   },
   "file_extension": ".py",
   "mimetype": "text/x-python",
   "name": "python",
   "nbconvert_exporter": "python",
   "pygments_lexer": "ipython3",
   "version": "3.11.5"
  }
 },
 "nbformat": 4,
 "nbformat_minor": 5
}
